{
 "cells": [
  {
   "cell_type": "code",
   "execution_count": 1,
   "metadata": {},
   "outputs": [
    {
     "name": "stderr",
     "output_type": "stream",
     "text": [
      "Using TensorFlow backend.\n"
     ]
    }
   ],
   "source": [
    "import numpy as np\n",
    "import pandas as pd\n",
    "\n",
    "import os\n",
    "\n",
    "import tensorflow as tf\n",
    "\n",
    "from tensorflow.keras.layers import Activation, Dropout, Flatten, Dense, SpatialDropout2D, Conv2D, MaxPooling2D\n",
    "from tensorflow.keras.optimizers import Adam\n",
    "from tensorflow.keras.preprocessing.image import ImageDataGenerator\n",
    "from tensorflow.keras.models import Sequential\n",
    "from keras.callbacks import ModelCheckpoint\n",
    "\n",
    "import matplotlib.pyplot as plt"
   ]
  },
  {
   "cell_type": "code",
   "execution_count": 2,
   "metadata": {},
   "outputs": [],
   "source": [
    "train = pd.read_csv(\"D:/Academics Canada/AIDI/Semester 2/Capstone 2/Project/MNIST Dataset/sign_mnist_train.csv\")\n",
    "test = pd.read_csv(\"D:/Academics Canada/AIDI/Semester 2/Capstone 2/Project/MNIST Dataset/sign_mnist_test.csv\")"
   ]
  },
  {
   "cell_type": "code",
   "execution_count": 3,
   "metadata": {},
   "outputs": [],
   "source": [
    "label = train['label'].values"
   ]
  },
  {
   "cell_type": "code",
   "execution_count": 4,
   "metadata": {},
   "outputs": [
    {
     "data": {
      "text/plain": [
       "array([ 0,  1,  2,  3,  4,  5,  6,  7,  8, 10, 11, 12, 13, 14, 15, 16, 17,\n",
       "       18, 19, 20, 21, 22, 23, 24], dtype=int64)"
      ]
     },
     "execution_count": 4,
     "metadata": {},
     "output_type": "execute_result"
    }
   ],
   "source": [
    "import numpy as np\n",
    "unique_value = np.array(label)\n",
    "np.unique(unique_value)"
   ]
  },
  {
   "cell_type": "code",
   "execution_count": 5,
   "metadata": {},
   "outputs": [],
   "source": [
    "train.drop('label', axis = 1, inplace = True)"
   ]
  },
  {
   "cell_type": "code",
   "execution_count": 6,
   "metadata": {},
   "outputs": [],
   "source": [
    "images = train.values\n",
    "images = np.array([np.reshape(i, (28, 28)) for i in images])\n",
    "images = np.array([i.flatten() for i in images])"
   ]
  },
  {
   "cell_type": "code",
   "execution_count": 7,
   "metadata": {},
   "outputs": [],
   "source": [
    "from sklearn.preprocessing import LabelBinarizer\n",
    "label_binarizer = LabelBinarizer()\n",
    "label = label_binarizer.fit_transform(label)"
   ]
  },
  {
   "cell_type": "code",
   "execution_count": 8,
   "metadata": {},
   "outputs": [
    {
     "data": {
      "text/plain": [
       "array([[0, 0, 0, ..., 0, 0, 0],\n",
       "       [0, 0, 0, ..., 0, 0, 0],\n",
       "       [0, 0, 1, ..., 0, 0, 0],\n",
       "       ...,\n",
       "       [0, 0, 0, ..., 0, 0, 0],\n",
       "       [0, 0, 0, ..., 0, 0, 0],\n",
       "       [0, 0, 0, ..., 0, 1, 0]])"
      ]
     },
     "execution_count": 8,
     "metadata": {},
     "output_type": "execute_result"
    }
   ],
   "source": [
    "label"
   ]
  },
  {
   "cell_type": "code",
   "execution_count": 9,
   "metadata": {},
   "outputs": [
    {
     "data": {
      "text/plain": [
       "<matplotlib.image.AxesImage at 0x1838cc826a0>"
      ]
     },
     "execution_count": 9,
     "metadata": {},
     "output_type": "execute_result"
    },
    {
     "data": {
      "image/png": "[encoded data removed]",
      "text/plain": [
       "<Figure size 432x288 with 1 Axes>"
      ]
     },
     "metadata": {
      "needs_background": "light"
     },
     "output_type": "display_data"
    }
   ],
   "source": [
    "import matplotlib.pyplot as plt\n",
    "plt.imshow(images[1].reshape(28,28))"
   ]
  },
  {
   "cell_type": "code",
   "execution_count": 10,
   "metadata": {},
   "outputs": [],
   "source": [
    "from sklearn.model_selection import train_test_split\n",
    "x_train, x_test, y_train, y_test = train_test_split(images, label, test_size = 0.3, random_state = 101)"
   ]
  },
  {
   "cell_type": "code",
   "execution_count": 11,
   "metadata": {},
   "outputs": [],
   "source": [
    "import keras\n",
    "from keras.models import Sequential\n",
    "from keras.layers import Dense, Conv2D, MaxPooling2D, Flatten, Dropout"
   ]
  },
  {
   "cell_type": "code",
   "execution_count": 12,
   "metadata": {},
   "outputs": [],
   "source": [
    "batch_size = 128\n",
    "num_classes = 24\n",
    "epochs = 50"
   ]
  },
  {
   "cell_type": "code",
   "execution_count": 13,
   "metadata": {},
   "outputs": [],
   "source": [
    "x_train = x_train / 255\n",
    "x_test = x_test / 255"
   ]
  },
  {
   "cell_type": "code",
   "execution_count": 14,
   "metadata": {},
   "outputs": [],
   "source": [
    "x_train = x_train.reshape(x_train.shape[0], 28, 28, 1)\n",
    "x_test = x_test.reshape(x_test.shape[0], 28, 28, 1)"
   ]
  },
  {
   "cell_type": "code",
   "execution_count": 46,
   "metadata": {},
   "outputs": [
    {
     "data": {
      "text/plain": [
       "<matplotlib.image.AxesImage at 0x1838d823c18>"
      ]
     },
     "execution_count": 46,
     "metadata": {},
     "output_type": "execute_result"
    },
    {
     "data": {
      "image/png": "[encoded data removed]",
      "text/plain": [
       "<Figure size 432x288 with 1 Axes>"
      ]
     },
     "metadata": {
      "needs_background": "light"
     },
     "output_type": "display_data"
    }
   ],
   "source": [
    "plt.imshow(x_train[0].reshape(28, 28))"
   ]
  },
  {
   "cell_type": "code",
   "execution_count": 16,
   "metadata": {},
   "outputs": [],
   "source": [
    "import os\n",
    "# Directory where the checkpoints will be saved\n",
    "checkpoint_dir = 'D:/Academics Canada/AIDI/Semester 2/Capstone 2/Model_CNN'\n",
    "# Name of the checkpoint files\n",
    "checkpoint_prefix = os.path.join(checkpoint_dir, \"mnist_chkpt_{epoch}\")\n",
    "\n",
    "checkpoint_callback=tf.keras.callbacks.ModelCheckpoint(\n",
    "    filepath=checkpoint_prefix,\n",
    "    save_weights_only=True)"
   ]
  },
  {
   "cell_type": "code",
   "execution_count": 17,
   "metadata": {},
   "outputs": [],
   "source": [
    "model = Sequential()\n",
    "\n",
    "model.add(Conv2D(64, kernel_size = (3, 3), activation = 'relu', input_shape = (28, 28, 1)))\n",
    "model.add(MaxPooling2D(pool_size = (2, 2)))\n",
    "\n",
    "model.add(Conv2D(64, kernel_size = (3, 3), activation = 'relu'))\n",
    "model.add(MaxPooling2D(pool_size = (2, 2)))\n",
    "\n",
    "model.add(Conv2D(64, kernel_size = (3, 3), activation = 'relu'))\n",
    "model.add(MaxPooling2D(pool_size = (2, 2)))\n",
    "\n",
    "model.add(Flatten())\n",
    "model.add(Dense(128, activation = 'relu'))\n",
    "model.add(Dropout(0.2))\n",
    "\n",
    "model.add(Dense(num_classes, activation = 'softmax'))"
   ]
  },
  {
   "cell_type": "code",
   "execution_count": 18,
   "metadata": {},
   "outputs": [
    {
     "name": "stdout",
     "output_type": "stream",
     "text": [
      "Model: \"sequential_1\"\n",
      "_________________________________________________________________\n",
      "Layer (type)                 Output Shape              Param #   \n",
      "=================================================================\n",
      "conv2d_1 (Conv2D)            (None, 26, 26, 64)        640       \n",
      "_________________________________________________________________\n",
      "max_pooling2d_1 (MaxPooling2 (None, 13, 13, 64)        0         \n",
      "_________________________________________________________________\n",
      "conv2d_2 (Conv2D)            (None, 11, 11, 64)        36928     \n",
      "_________________________________________________________________\n",
      "max_pooling2d_2 (MaxPooling2 (None, 5, 5, 64)          0         \n",
      "_________________________________________________________________\n",
      "conv2d_3 (Conv2D)            (None, 3, 3, 64)          36928     \n",
      "_________________________________________________________________\n",
      "max_pooling2d_3 (MaxPooling2 (None, 1, 1, 64)          0         \n",
      "_________________________________________________________________\n",
      "flatten_1 (Flatten)          (None, 64)                0         \n",
      "_________________________________________________________________\n",
      "dense_1 (Dense)              (None, 128)               8320      \n",
      "_________________________________________________________________\n",
      "dropout_1 (Dropout)          (None, 128)               0         \n",
      "_________________________________________________________________\n",
      "dense_2 (Dense)              (None, 24)                3096      \n",
      "=================================================================\n",
      "Total params: 85,912\n",
      "Trainable params: 85,912\n",
      "Non-trainable params: 0\n",
      "_________________________________________________________________\n"
     ]
    }
   ],
   "source": [
    "model.summary()"
   ]
  },
  {
   "cell_type": "code",
   "execution_count": 19,
   "metadata": {},
   "outputs": [],
   "source": [
    "model.compile(loss = keras.losses.categorical_crossentropy, optimizer = keras.optimizers.Adam(), metrics = ['accuracy'])"
   ]
  },
  {
   "cell_type": "code",
   "execution_count": 20,
   "metadata": {
    "scrolled": true
   },
   "outputs": [
    {
     "name": "stdout",
     "output_type": "stream",
     "text": [
      "Train on 19218 samples, validate on 8237 samples\n",
      "Epoch 1/50\n",
      "19218/19218 [==============================] - 17s 882us/step - loss: 2.6750 - accuracy: 0.1805 - val_loss: 1.7839 - val_accuracy: 0.4449\n",
      "Epoch 2/50\n",
      "19218/19218 [==============================] - 18s 941us/step - loss: 1.4036 - accuracy: 0.5360 - val_loss: 0.9745 - val_accuracy: 0.6837\n",
      "Epoch 3/50\n",
      "19218/19218 [==============================] - 17s 909us/step - loss: 0.8444 - accuracy: 0.7177 - val_loss: 0.5678 - val_accuracy: 0.8187\n",
      "Epoch 4/50\n",
      "19218/19218 [==============================] - 18s 927us/step - loss: 0.5585 - accuracy: 0.8117 - val_loss: 0.3715 - val_accuracy: 0.8923\n",
      "Epoch 5/50\n",
      "19218/19218 [==============================] - 18s 947us/step - loss: 0.4024 - accuracy: 0.8648 - val_loss: 0.2435 - val_accuracy: 0.9341\n",
      "Epoch 6/50\n",
      "19218/19218 [==============================] - 18s 939us/step - loss: 0.2737 - accuracy: 0.9127 - val_loss: 0.1803 - val_accuracy: 0.9553\n",
      "Epoch 7/50\n",
      "19218/19218 [==============================] - 20s 1ms/step - loss: 0.2041 - accuracy: 0.9364 - val_loss: 0.1211 - val_accuracy: 0.9696\n",
      "Epoch 8/50\n",
      "19218/19218 [==============================] - 19s 1ms/step - loss: 0.1501 - accuracy: 0.9549 - val_loss: 0.0805 - val_accuracy: 0.9842\n",
      "Epoch 9/50\n",
      "19218/19218 [==============================] - 18s 934us/step - loss: 0.1160 - accuracy: 0.9653 - val_loss: 0.0666 - val_accuracy: 0.9856\n",
      "Epoch 10/50\n",
      "19218/19218 [==============================] - 18s 921us/step - loss: 0.0875 - accuracy: 0.9746 - val_loss: 0.0402 - val_accuracy: 0.9914\n",
      "Epoch 11/50\n",
      "19218/19218 [==============================] - 18s 914us/step - loss: 0.0706 - accuracy: 0.9797 - val_loss: 0.0355 - val_accuracy: 0.9938\n",
      "Epoch 12/50\n",
      "19218/19218 [==============================] - 18s 937us/step - loss: 0.0575 - accuracy: 0.9834 - val_loss: 0.0184 - val_accuracy: 0.9971\n",
      "Epoch 13/50\n",
      "19218/19218 [==============================] - 18s 929us/step - loss: 0.0466 - accuracy: 0.9874 - val_loss: 0.0132 - val_accuracy: 0.9992\n",
      "Epoch 14/50\n",
      "19218/19218 [==============================] - 18s 927us/step - loss: 0.0392 - accuracy: 0.9893 - val_loss: 0.0124 - val_accuracy: 0.9982\n",
      "Epoch 15/50\n",
      "19218/19218 [==============================] - 18s 934us/step - loss: 0.0351 - accuracy: 0.9909 - val_loss: 0.0141 - val_accuracy: 0.9971\n",
      "Epoch 16/50\n",
      "19218/19218 [==============================] - 18s 912us/step - loss: 0.0357 - accuracy: 0.9899 - val_loss: 0.0090 - val_accuracy: 0.9992\n",
      "Epoch 17/50\n",
      "19218/19218 [==============================] - 18s 954us/step - loss: 0.0285 - accuracy: 0.9921 - val_loss: 0.0119 - val_accuracy: 0.9972\n",
      "Epoch 18/50\n",
      "19218/19218 [==============================] - 18s 914us/step - loss: 0.0203 - accuracy: 0.9951 - val_loss: 0.0060 - val_accuracy: 0.9995\n",
      "Epoch 19/50\n",
      "19218/19218 [==============================] - 17s 891us/step - loss: 0.0207 - accuracy: 0.9948 - val_loss: 0.0108 - val_accuracy: 0.9990\n",
      "Epoch 20/50\n",
      "19218/19218 [==============================] - 20s 1ms/step - loss: 0.0223 - accuracy: 0.9935 - val_loss: 0.0047 - val_accuracy: 0.9995\n",
      "Epoch 21/50\n",
      "19218/19218 [==============================] - 18s 955us/step - loss: 0.0210 - accuracy: 0.9940 - val_loss: 0.0040 - val_accuracy: 0.9995\n",
      "Epoch 22/50\n",
      "19218/19218 [==============================] - 19s 1ms/step - loss: 0.0156 - accuracy: 0.9959 - val_loss: 0.0044 - val_accuracy: 0.9994\n",
      "Epoch 23/50\n",
      "19218/19218 [==============================] - 21s 1ms/step - loss: 0.0162 - accuracy: 0.9954 - val_loss: 0.0059 - val_accuracy: 0.9989\n",
      "Epoch 24/50\n",
      "19218/19218 [==============================] - 21s 1ms/step - loss: 0.0195 - accuracy: 0.9947 - val_loss: 0.0054 - val_accuracy: 0.9985\n",
      "Epoch 25/50\n",
      "19218/19218 [==============================] - 20s 1ms/step - loss: 0.0157 - accuracy: 0.9955 - val_loss: 0.0030 - val_accuracy: 0.9996\n",
      "Epoch 26/50\n",
      "19218/19218 [==============================] - 19s 996us/step - loss: 0.0144 - accuracy: 0.9953 - val_loss: 0.0045 - val_accuracy: 0.9996\n",
      "Epoch 27/50\n",
      "19218/19218 [==============================] - 20s 1ms/step - loss: 0.0126 - accuracy: 0.9967 - val_loss: 0.0014 - val_accuracy: 0.9999\n",
      "Epoch 28/50\n",
      "19218/19218 [==============================] - 19s 1ms/step - loss: 0.0074 - accuracy: 0.9983 - val_loss: 8.0330e-04 - val_accuracy: 0.9999\n",
      "Epoch 29/50\n",
      "19218/19218 [==============================] - 19s 986us/step - loss: 0.0086 - accuracy: 0.9983 - val_loss: 0.0062 - val_accuracy: 0.9992\n",
      "Epoch 30/50\n",
      "19218/19218 [==============================] - 19s 980us/step - loss: 0.0081 - accuracy: 0.9979 - val_loss: 6.1542e-04 - val_accuracy: 1.0000\n",
      "Epoch 31/50\n",
      "19218/19218 [==============================] - 19s 1ms/step - loss: 0.0119 - accuracy: 0.9959 - val_loss: 0.0021 - val_accuracy: 0.9995\n",
      "Epoch 32/50\n",
      "19218/19218 [==============================] - 20s 1ms/step - loss: 0.0129 - accuracy: 0.9960 - val_loss: 0.0012 - val_accuracy: 0.9998\n",
      "Epoch 33/50\n",
      "19218/19218 [==============================] - 17s 870us/step - loss: 0.0205 - accuracy: 0.9935 - val_loss: 0.0016 - val_accuracy: 0.9998\n",
      "Epoch 34/50\n",
      "19218/19218 [==============================] - 16s 855us/step - loss: 0.0050 - accuracy: 0.9988 - val_loss: 6.9687e-04 - val_accuracy: 0.9999\n",
      "Epoch 35/50\n",
      "19218/19218 [==============================] - 17s 862us/step - loss: 0.0055 - accuracy: 0.9982 - val_loss: 0.0013 - val_accuracy: 0.9999\n",
      "Epoch 36/50\n",
      "19218/19218 [==============================] - 17s 867us/step - loss: 0.0113 - accuracy: 0.9965 - val_loss: 0.0016 - val_accuracy: 0.9996\n",
      "Epoch 37/50\n",
      "19218/19218 [==============================] - 16s 854us/step - loss: 0.0122 - accuracy: 0.9961 - val_loss: 0.0014 - val_accuracy: 0.9995\n",
      "Epoch 38/50\n",
      "19218/19218 [==============================] - 17s 862us/step - loss: 0.0057 - accuracy: 0.9984 - val_loss: 0.0013 - val_accuracy: 0.9999\n",
      "Epoch 39/50\n",
      "19218/19218 [==============================] - 17s 866us/step - loss: 0.0095 - accuracy: 0.9971 - val_loss: 3.1265e-04 - val_accuracy: 1.0000\n",
      "Epoch 40/50\n",
      "19218/19218 [==============================] - 17s 881us/step - loss: 0.0060 - accuracy: 0.9981 - val_loss: 6.9140e-04 - val_accuracy: 0.9999\n",
      "Epoch 41/50\n",
      "19218/19218 [==============================] - 17s 859us/step - loss: 0.0056 - accuracy: 0.9984 - val_loss: 3.0619e-04 - val_accuracy: 1.0000\n",
      "Epoch 42/50\n",
      "19218/19218 [==============================] - 16s 854us/step - loss: 0.0125 - accuracy: 0.9958 - val_loss: 0.0015 - val_accuracy: 1.0000\n",
      "Epoch 43/50\n",
      "19218/19218 [==============================] - 16s 851us/step - loss: 0.0147 - accuracy: 0.9953 - val_loss: 0.0178 - val_accuracy: 0.9938\n",
      "Epoch 44/50\n",
      "19218/19218 [==============================] - 17s 870us/step - loss: 0.0127 - accuracy: 0.9961 - val_loss: 5.6743e-04 - val_accuracy: 1.0000\n",
      "Epoch 45/50\n",
      "19218/19218 [==============================] - 16s 832us/step - loss: 0.0058 - accuracy: 0.9983 - val_loss: 4.0819e-04 - val_accuracy: 1.0000\n",
      "Epoch 46/50\n",
      "19218/19218 [==============================] - 16s 846us/step - loss: 0.0027 - accuracy: 0.9992 - val_loss: 8.5785e-05 - val_accuracy: 1.0000\n",
      "Epoch 47/50\n",
      "19218/19218 [==============================] - 16s 853us/step - loss: 0.0024 - accuracy: 0.9994 - val_loss: 0.0022 - val_accuracy: 0.9993\n",
      "Epoch 48/50\n",
      "19218/19218 [==============================] - 16s 841us/step - loss: 0.0062 - accuracy: 0.9978 - val_loss: 0.0033 - val_accuracy: 0.9987\n",
      "Epoch 49/50\n",
      "19218/19218 [==============================] - 20s 1ms/step - loss: 0.0096 - accuracy: 0.9969 - val_loss: 5.3616e-04 - val_accuracy: 1.0000\n",
      "Epoch 50/50\n",
      "19218/19218 [==============================] - 23s 1ms/step - loss: 0.0023 - accuracy: 0.9994 - val_loss: 3.7037e-04 - val_accuracy: 0.9999\n"
     ]
    }
   ],
   "source": [
    "history = model.fit(x_train, y_train, validation_data = (x_test, y_test), epochs = epochs, \n",
    "                    batch_size = batch_size)"
   ]
  },
  {
   "cell_type": "code",
   "execution_count": 22,
   "metadata": {},
   "outputs": [],
   "source": [
    "test_labels = test['label']"
   ]
  },
  {
   "cell_type": "code",
   "execution_count": 23,
   "metadata": {},
   "outputs": [],
   "source": [
    "test.drop('label', axis = 1, inplace = True)"
   ]
  },
  {
   "cell_type": "code",
   "execution_count": 24,
   "metadata": {},
   "outputs": [],
   "source": [
    "test_images = test.values\n",
    "test_images = np.array([np.reshape(i, (28, 28)) for i in test_images])\n",
    "test_images = np.array([i.flatten() for i in test_images])"
   ]
  },
  {
   "cell_type": "code",
   "execution_count": 25,
   "metadata": {},
   "outputs": [],
   "source": [
    "test_labels = label_binarizer.fit_transform(test_labels)"
   ]
  },
  {
   "cell_type": "code",
   "execution_count": 26,
   "metadata": {},
   "outputs": [],
   "source": [
    "test_images = test_images.reshape(test_images.shape[0], 28, 28, 1)"
   ]
  },
  {
   "cell_type": "code",
   "execution_count": 27,
   "metadata": {},
   "outputs": [],
   "source": [
    "y_pred = model.predict(test_images)"
   ]
  },
  {
   "cell_type": "code",
   "execution_count": 28,
   "metadata": {},
   "outputs": [
    {
     "data": {
      "text/plain": [
       "0.8577802565532627"
      ]
     },
     "execution_count": 28,
     "metadata": {},
     "output_type": "execute_result"
    }
   ],
   "source": [
    "from sklearn.metrics import accuracy_score\n",
    "accuracy_score(test_labels, y_pred.round())"
   ]
  },
  {
   "cell_type": "code",
   "execution_count": 47,
   "metadata": {},
   "outputs": [
    {
     "name": "stdout",
     "output_type": "stream",
     "text": [
      "Predicted alphabet:  a\n"
     ]
    },
    {
     "data": {
      "text/plain": [
       "<matplotlib.image.AxesImage at 0x1838dd7ac88>"
      ]
     },
     "execution_count": 47,
     "metadata": {},
     "output_type": "execute_result"
    },
    {
     "data": {
      "image/png": "[encoded data removed]",
      "text/plain": [
       "<Figure size 432x288 with 1 Axes>"
      ]
     },
     "metadata": {
      "needs_background": "light"
     },
     "output_type": "display_data"
    }
   ],
   "source": [
    "image = 0\n",
    "image_0  = x_train[image]\n",
    "image_0 = image_0.reshape((1, 28, 28, 1))\n",
    "z = model.predict(image_0)\n",
    "alphabets = ['a', 'b', 'c', 'd', 'e', 'f', 'g', 'h', 'i', 'k', 'l', 'm', 'n', 'o', 'p', 'q', 'r', 's', 't', 'u', 'v', 'w', 'x', 'y']\n",
    "max_index = np.argmax(z[0])\n",
    "final_label = alphabets[max_index]\n",
    "\n",
    "print('Predicted alphabet: ', final_label)\n",
    "plt.imshow(x_train[image].reshape(28, 28))"
   ]
  },
  {
   "cell_type": "code",
   "execution_count": 33,
   "metadata": {},
   "outputs": [
    {
     "data": {
      "image/png": "[encoded data removed]",
      "text/plain": [
       "<Figure size 432x288 with 1 Axes>"
      ]
     },
     "metadata": {
      "needs_background": "light"
     },
     "output_type": "display_data"
    }
   ],
   "source": [
    "import matplotlib.pyplot as plt\n",
    "\n",
    "# Plot training & validation accuracy values\n",
    "plt.plot(history.history['accuracy'])\n",
    "plt.plot(history.history['val_accuracy'])\n",
    "plt.title('Model accuracy')\n",
    "plt.ylabel('Accuracy')\n",
    "plt.xlabel('Epoch')\n",
    "plt.legend(['Train', 'Test'], loc='lower right')\n",
    "plt.show()"
   ]
  },
  {
   "cell_type": "code",
   "execution_count": 32,
   "metadata": {},
   "outputs": [
    {
     "data": {
      "image/png": "[encoded data removed]",
      "text/plain": [
       "<Figure size 432x288 with 1 Axes>"
      ]
     },
     "metadata": {
      "needs_background": "light"
     },
     "output_type": "display_data"
    }
   ],
   "source": [
    "# Plot training & validation loss values\n",
    "plt.plot(history.history['loss'])\n",
    "plt.plot(history.history['val_loss'])\n",
    "plt.title('Model loss')\n",
    "plt.ylabel('Loss')\n",
    "plt.xlabel('Epoch')\n",
    "plt.legend(['Train', 'Test'], loc='upper right')\n",
    "plt.show()"
   ]
  },
  {
   "cell_type": "code",
   "execution_count": null,
   "metadata": {},
   "outputs": [],
   "source": []
  }
 ],
 "metadata": {
  "kernelspec": {
   "display_name": "Python 3",
   "language": "python",
   "name": "python3"
  },
  "language_info": {
   "codemirror_mode": {
    "name": "ipython",
    "version": 3
   },
   "file_extension": ".py",
   "mimetype": "text/x-python",
   "name": "python",
   "nbconvert_exporter": "python",
   "pygments_lexer": "ipython3",
   "version": "3.6.9"
  }
 },
 "nbformat": 4,
 "nbformat_minor": 2
}
